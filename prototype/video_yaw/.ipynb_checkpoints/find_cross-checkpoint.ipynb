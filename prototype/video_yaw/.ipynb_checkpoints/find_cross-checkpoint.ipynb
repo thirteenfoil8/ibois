{
 "cells": [
  {
   "cell_type": "code",
   "execution_count": 119,
   "metadata": {},
   "outputs": [],
   "source": [
    "import cv2\n",
    "import numpy as np"
   ]
  },
  {
   "cell_type": "code",
   "execution_count": 123,
   "metadata": {},
   "outputs": [],
   "source": [
    "image=cv2.imread('triangle.jpg')\n",
    "scale_percent = 20 # percent of original size\n",
    "width = int(image.shape[1] * scale_percent / 100)\n",
    "height = int(image.shape[0] * scale_percent / 100)\n",
    "dim = (width, height)\n",
    "image = cv2.resize(image, dim, interpolation = cv2.INTER_AREA)"
   ]
  },
  {
   "cell_type": "code",
   "execution_count": 124,
   "metadata": {},
   "outputs": [],
   "source": [
    "gray=cv2.cvtColor(image,cv2.COLOR_BGR2GRAY)\n",
    "gray = cv2.GaussianBlur(gray, (5,5), 0)\n",
    "edged=cv2.Canny(gray,100,200)\n",
    "cv2.imshow('Canny', edged)\n",
    "cv2.waitKey(0)\n",
    "cv2.destroyAllWindows()"
   ]
  },
  {
   "cell_type": "code",
   "execution_count": 125,
   "metadata": {},
   "outputs": [
    {
     "name": "stdout",
     "output_type": "stream",
     "text": [
      "Numbers of contours found=1\n",
      "1\n"
     ]
    }
   ],
   "source": [
    "#use a copy of your image, e.g. - edged.copy(), since finding contours alter the image\n",
    "#we have to add _, before the contours as an empty argument due to upgrade of the OpenCV version\n",
    "_,contours,hierarchy=cv2.findContours(edged.copy(),cv2.RETR_LIST,cv2.CHAIN_APPROX_SIMPLE)\n",
    "\n",
    "print('Numbers of contours found=' + str(len(contours)))\n",
    "cross = 0\n",
    "for cnt in contours:\n",
    "    approx = cv2.approxPolyDP(cnt,0.01*cv2.arcLength(cnt,True),True)\n",
    "    if len(approx) >2 and len(approx) <20:\n",
    "        cross += 1\n",
    "        shape_name=\"Cross\"\n",
    "        cv2.drawContours(image,[cnt],0,(0,255,0),-1)\n",
    "        M=cv2.moments(cnt)\n",
    "        cx=int(M['m10']/M['m00'])\n",
    "        cy=int(M['m01']/M['m00'])\n",
    "        cv2.putText(image,shape_name,(cx-50,cy),cv2.FONT_HERSHEY_SIMPLEX,1,(0,0,0),1)\n",
    "cv2.imshow('identifying shapes', image)\n",
    "cv2.waitKey(0)\n",
    "cv2.destroyAllWindows()\n",
    "print(cross)"
   ]
  },
  {
   "cell_type": "code",
   "execution_count": null,
   "metadata": {},
   "outputs": [],
   "source": []
  },
  {
   "cell_type": "code",
   "execution_count": 65,
   "metadata": {},
   "outputs": [
    {
     "data": {
      "text/plain": [
       "True"
      ]
     },
     "execution_count": 65,
     "metadata": {},
     "output_type": "execute_result"
    }
   ],
   "source": [
    "import numpy as np\n",
    "import cv2 as cv\n",
    "import matplotlib.pyplot as plt\n",
    "img1 = cv.imread('triangle.jpg',cv.IMREAD_GRAYSCALE)          # queryImage\n",
    "img2 = cv.imread('token.jpg',cv.IMREAD_GRAYSCALE) # trainImage\n",
    "# Initiate ORB detector\n",
    "orb = cv.ORB_create()\n",
    "# find the keypoints and descriptors with ORB\n",
    "kp1, des1 = orb.detectAndCompute(img1,None)\n",
    "kp2, des2 = orb.detectAndCompute(img2,None)"
   ]
  },
  {
   "cell_type": "code",
   "execution_count": null,
   "metadata": {},
   "outputs": [],
   "source": []
  }
 ],
 "metadata": {
  "kernelspec": {
   "display_name": "Python 3",
   "language": "python",
   "name": "python3"
  },
  "language_info": {
   "codemirror_mode": {
    "name": "ipython",
    "version": 3
   },
   "file_extension": ".py",
   "mimetype": "text/x-python",
   "name": "python",
   "nbconvert_exporter": "python",
   "pygments_lexer": "ipython3",
   "version": "3.7.9"
  }
 },
 "nbformat": 4,
 "nbformat_minor": 4
}
